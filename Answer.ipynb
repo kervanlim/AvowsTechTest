{
 "cells": [
  {
   "cell_type": "markdown",
   "id": "d79e3419-dbd6-48af-8593-57dae6b3ace2",
   "metadata": {},
   "source": [
    "# **Data Scientist Assignment Answer - Lim Kervan**"
   ]
  },
  {
   "cell_type": "code",
   "execution_count": 1,
   "id": "43d3c6c0-e59d-4b88-8c69-1410801a6c1d",
   "metadata": {},
   "outputs": [
    {
     "data": {
      "text/html": [
       "<div>\n",
       "<style scoped>\n",
       "    .dataframe tbody tr th:only-of-type {\n",
       "        vertical-align: middle;\n",
       "    }\n",
       "\n",
       "    .dataframe tbody tr th {\n",
       "        vertical-align: top;\n",
       "    }\n",
       "\n",
       "    .dataframe thead th {\n",
       "        text-align: right;\n",
       "    }\n",
       "</style>\n",
       "<table border=\"1\" class=\"dataframe\">\n",
       "  <thead>\n",
       "    <tr style=\"text-align: right;\">\n",
       "      <th></th>\n",
       "      <th>iso_code</th>\n",
       "      <th>continent</th>\n",
       "      <th>location</th>\n",
       "      <th>date</th>\n",
       "      <th>total_cases</th>\n",
       "      <th>new_cases</th>\n",
       "      <th>new_cases_smoothed</th>\n",
       "      <th>total_deaths</th>\n",
       "      <th>new_deaths</th>\n",
       "      <th>new_deaths_smoothed</th>\n",
       "      <th>...</th>\n",
       "      <th>male_smokers</th>\n",
       "      <th>handwashing_facilities</th>\n",
       "      <th>hospital_beds_per_thousand</th>\n",
       "      <th>life_expectancy</th>\n",
       "      <th>human_development_index</th>\n",
       "      <th>population</th>\n",
       "      <th>excess_mortality_cumulative_absolute</th>\n",
       "      <th>excess_mortality_cumulative</th>\n",
       "      <th>excess_mortality</th>\n",
       "      <th>excess_mortality_cumulative_per_million</th>\n",
       "    </tr>\n",
       "  </thead>\n",
       "  <tbody>\n",
       "    <tr>\n",
       "      <th>0</th>\n",
       "      <td>AFG</td>\n",
       "      <td>Asia</td>\n",
       "      <td>Afghanistan</td>\n",
       "      <td>2020-02-24</td>\n",
       "      <td>5.0</td>\n",
       "      <td>5.0</td>\n",
       "      <td>NaN</td>\n",
       "      <td>NaN</td>\n",
       "      <td>NaN</td>\n",
       "      <td>NaN</td>\n",
       "      <td>...</td>\n",
       "      <td>NaN</td>\n",
       "      <td>37.746</td>\n",
       "      <td>0.5</td>\n",
       "      <td>64.83</td>\n",
       "      <td>0.511</td>\n",
       "      <td>41128772.0</td>\n",
       "      <td>NaN</td>\n",
       "      <td>NaN</td>\n",
       "      <td>NaN</td>\n",
       "      <td>NaN</td>\n",
       "    </tr>\n",
       "    <tr>\n",
       "      <th>1</th>\n",
       "      <td>AFG</td>\n",
       "      <td>Asia</td>\n",
       "      <td>Afghanistan</td>\n",
       "      <td>2020-02-25</td>\n",
       "      <td>5.0</td>\n",
       "      <td>0.0</td>\n",
       "      <td>NaN</td>\n",
       "      <td>NaN</td>\n",
       "      <td>NaN</td>\n",
       "      <td>NaN</td>\n",
       "      <td>...</td>\n",
       "      <td>NaN</td>\n",
       "      <td>37.746</td>\n",
       "      <td>0.5</td>\n",
       "      <td>64.83</td>\n",
       "      <td>0.511</td>\n",
       "      <td>41128772.0</td>\n",
       "      <td>NaN</td>\n",
       "      <td>NaN</td>\n",
       "      <td>NaN</td>\n",
       "      <td>NaN</td>\n",
       "    </tr>\n",
       "    <tr>\n",
       "      <th>2</th>\n",
       "      <td>AFG</td>\n",
       "      <td>Asia</td>\n",
       "      <td>Afghanistan</td>\n",
       "      <td>2020-02-26</td>\n",
       "      <td>5.0</td>\n",
       "      <td>0.0</td>\n",
       "      <td>NaN</td>\n",
       "      <td>NaN</td>\n",
       "      <td>NaN</td>\n",
       "      <td>NaN</td>\n",
       "      <td>...</td>\n",
       "      <td>NaN</td>\n",
       "      <td>37.746</td>\n",
       "      <td>0.5</td>\n",
       "      <td>64.83</td>\n",
       "      <td>0.511</td>\n",
       "      <td>41128772.0</td>\n",
       "      <td>NaN</td>\n",
       "      <td>NaN</td>\n",
       "      <td>NaN</td>\n",
       "      <td>NaN</td>\n",
       "    </tr>\n",
       "    <tr>\n",
       "      <th>3</th>\n",
       "      <td>AFG</td>\n",
       "      <td>Asia</td>\n",
       "      <td>Afghanistan</td>\n",
       "      <td>2020-02-27</td>\n",
       "      <td>5.0</td>\n",
       "      <td>0.0</td>\n",
       "      <td>NaN</td>\n",
       "      <td>NaN</td>\n",
       "      <td>NaN</td>\n",
       "      <td>NaN</td>\n",
       "      <td>...</td>\n",
       "      <td>NaN</td>\n",
       "      <td>37.746</td>\n",
       "      <td>0.5</td>\n",
       "      <td>64.83</td>\n",
       "      <td>0.511</td>\n",
       "      <td>41128772.0</td>\n",
       "      <td>NaN</td>\n",
       "      <td>NaN</td>\n",
       "      <td>NaN</td>\n",
       "      <td>NaN</td>\n",
       "    </tr>\n",
       "    <tr>\n",
       "      <th>4</th>\n",
       "      <td>AFG</td>\n",
       "      <td>Asia</td>\n",
       "      <td>Afghanistan</td>\n",
       "      <td>2020-02-28</td>\n",
       "      <td>5.0</td>\n",
       "      <td>0.0</td>\n",
       "      <td>NaN</td>\n",
       "      <td>NaN</td>\n",
       "      <td>NaN</td>\n",
       "      <td>NaN</td>\n",
       "      <td>...</td>\n",
       "      <td>NaN</td>\n",
       "      <td>37.746</td>\n",
       "      <td>0.5</td>\n",
       "      <td>64.83</td>\n",
       "      <td>0.511</td>\n",
       "      <td>41128772.0</td>\n",
       "      <td>NaN</td>\n",
       "      <td>NaN</td>\n",
       "      <td>NaN</td>\n",
       "      <td>NaN</td>\n",
       "    </tr>\n",
       "  </tbody>\n",
       "</table>\n",
       "<p>5 rows × 67 columns</p>\n",
       "</div>"
      ],
      "text/plain": [
       "  iso_code continent     location        date  total_cases  new_cases  \\\n",
       "0      AFG      Asia  Afghanistan  2020-02-24          5.0        5.0   \n",
       "1      AFG      Asia  Afghanistan  2020-02-25          5.0        0.0   \n",
       "2      AFG      Asia  Afghanistan  2020-02-26          5.0        0.0   \n",
       "3      AFG      Asia  Afghanistan  2020-02-27          5.0        0.0   \n",
       "4      AFG      Asia  Afghanistan  2020-02-28          5.0        0.0   \n",
       "\n",
       "   new_cases_smoothed  total_deaths  new_deaths  new_deaths_smoothed  ...  \\\n",
       "0                 NaN           NaN         NaN                  NaN  ...   \n",
       "1                 NaN           NaN         NaN                  NaN  ...   \n",
       "2                 NaN           NaN         NaN                  NaN  ...   \n",
       "3                 NaN           NaN         NaN                  NaN  ...   \n",
       "4                 NaN           NaN         NaN                  NaN  ...   \n",
       "\n",
       "   male_smokers  handwashing_facilities  hospital_beds_per_thousand  \\\n",
       "0           NaN                  37.746                         0.5   \n",
       "1           NaN                  37.746                         0.5   \n",
       "2           NaN                  37.746                         0.5   \n",
       "3           NaN                  37.746                         0.5   \n",
       "4           NaN                  37.746                         0.5   \n",
       "\n",
       "   life_expectancy  human_development_index  population  \\\n",
       "0            64.83                    0.511  41128772.0   \n",
       "1            64.83                    0.511  41128772.0   \n",
       "2            64.83                    0.511  41128772.0   \n",
       "3            64.83                    0.511  41128772.0   \n",
       "4            64.83                    0.511  41128772.0   \n",
       "\n",
       "   excess_mortality_cumulative_absolute  excess_mortality_cumulative  \\\n",
       "0                                   NaN                          NaN   \n",
       "1                                   NaN                          NaN   \n",
       "2                                   NaN                          NaN   \n",
       "3                                   NaN                          NaN   \n",
       "4                                   NaN                          NaN   \n",
       "\n",
       "   excess_mortality  excess_mortality_cumulative_per_million  \n",
       "0               NaN                                      NaN  \n",
       "1               NaN                                      NaN  \n",
       "2               NaN                                      NaN  \n",
       "3               NaN                                      NaN  \n",
       "4               NaN                                      NaN  \n",
       "\n",
       "[5 rows x 67 columns]"
      ]
     },
     "execution_count": 1,
     "metadata": {},
     "output_type": "execute_result"
    }
   ],
   "source": [
    "import pandas as pd\n",
    "\n",
    "df = pd.read_csv('owid-covid-data.csv')\n",
    "df.head()"
   ]
  },
  {
   "cell_type": "code",
   "execution_count": 2,
   "id": "83648142-bea0-4331-9a46-1fa558d6d245",
   "metadata": {},
   "outputs": [
    {
     "name": "stdout",
     "output_type": "stream",
     "text": [
      "<class 'pandas.core.frame.DataFrame'>\n",
      "RangeIndex: 250616 entries, 0 to 250615\n",
      "Data columns (total 67 columns):\n",
      " #   Column                                      Non-Null Count   Dtype  \n",
      "---  ------                                      --------------   -----  \n",
      " 0   iso_code                                    250616 non-null  object \n",
      " 1   continent                                   236539 non-null  object \n",
      " 2   location                                    250616 non-null  object \n",
      " 3   date                                        250616 non-null  object \n",
      " 4   total_cases                                 236325 non-null  float64\n",
      " 5   new_cases                                   235991 non-null  float64\n",
      " 6   new_cases_smoothed                          234787 non-null  float64\n",
      " 7   total_deaths                                216788 non-null  float64\n",
      " 8   new_deaths                                  216683 non-null  float64\n",
      " 9   new_deaths_smoothed                         215497 non-null  float64\n",
      " 10  total_cases_per_million                     235250 non-null  float64\n",
      " 11  new_cases_per_million                       234916 non-null  float64\n",
      " 12  new_cases_smoothed_per_million              233717 non-null  float64\n",
      " 13  total_deaths_per_million                    215726 non-null  float64\n",
      " 14  new_deaths_per_million                      215621 non-null  float64\n",
      " 15  new_deaths_smoothed_per_million             214440 non-null  float64\n",
      " 16  reproduction_rate                           184817 non-null  float64\n",
      " 17  icu_patients                                33633 non-null   float64\n",
      " 18  icu_patients_per_million                    33633 non-null   float64\n",
      " 19  hosp_patients                               36611 non-null   float64\n",
      " 20  hosp_patients_per_million                   36611 non-null   float64\n",
      " 21  weekly_icu_admissions                       8454 non-null    float64\n",
      " 22  weekly_icu_admissions_per_million           8454 non-null    float64\n",
      " 23  weekly_hosp_admissions                      20066 non-null   float64\n",
      " 24  weekly_hosp_admissions_per_million          20066 non-null   float64\n",
      " 25  total_tests                                 79387 non-null   float64\n",
      " 26  new_tests                                   75403 non-null   float64\n",
      " 27  total_tests_per_thousand                    79387 non-null   float64\n",
      " 28  new_tests_per_thousand                      75403 non-null   float64\n",
      " 29  new_tests_smoothed                          103965 non-null  float64\n",
      " 30  new_tests_smoothed_per_thousand             103965 non-null  float64\n",
      " 31  positive_rate                               95927 non-null   float64\n",
      " 32  tests_per_case                              94348 non-null   float64\n",
      " 33  tests_units                                 106788 non-null  object \n",
      " 34  total_vaccinations                          70752 non-null   float64\n",
      " 35  people_vaccinated                           67641 non-null   float64\n",
      " 36  people_fully_vaccinated                     64979 non-null   float64\n",
      " 37  total_boosters                              39669 non-null   float64\n",
      " 38  new_vaccinations                            58667 non-null   float64\n",
      " 39  new_vaccinations_smoothed                   149267 non-null  float64\n",
      " 40  total_vaccinations_per_hundred              70752 non-null   float64\n",
      " 41  people_vaccinated_per_hundred               67641 non-null   float64\n",
      " 42  people_fully_vaccinated_per_hundred         64979 non-null   float64\n",
      " 43  total_boosters_per_hundred                  39669 non-null   float64\n",
      " 44  new_vaccinations_smoothed_per_million       149267 non-null  float64\n",
      " 45  new_people_vaccinated_smoothed              149015 non-null  float64\n",
      " 46  new_people_vaccinated_smoothed_per_hundred  149015 non-null  float64\n",
      " 47  stringency_index                            183961 non-null  float64\n",
      " 48  population_density                          218346 non-null  float64\n",
      " 49  median_age                                  201962 non-null  float64\n",
      " 50  aged_65_older                               199833 non-null  float64\n",
      " 51  aged_70_older                               200906 non-null  float64\n",
      " 52  gdp_per_capita                              201567 non-null  float64\n",
      " 53  extreme_poverty                             131266 non-null  float64\n",
      " 54  cardiovasc_death_rate                       201375 non-null  float64\n",
      " 55  diabetes_prevalence                         211920 non-null  float64\n",
      " 56  female_smokers                              152669 non-null  float64\n",
      " 57  male_smokers                                150580 non-null  float64\n",
      " 58  handwashing_facilities                      99315 non-null   float64\n",
      " 59  hospital_beds_per_thousand                  179504 non-null  float64\n",
      " 60  life_expectancy                             229921 non-null  float64\n",
      " 61  human_development_index                     196776 non-null  float64\n",
      " 62  population                                  249541 non-null  float64\n",
      " 63  excess_mortality_cumulative_absolute        8240 non-null    float64\n",
      " 64  excess_mortality_cumulative                 8240 non-null    float64\n",
      " 65  excess_mortality                            8279 non-null    float64\n",
      " 66  excess_mortality_cumulative_per_million     8240 non-null    float64\n",
      "dtypes: float64(62), object(5)\n",
      "memory usage: 128.1+ MB\n"
     ]
    }
   ],
   "source": [
    "df.info()"
   ]
  },
  {
   "cell_type": "code",
   "execution_count": 3,
   "id": "fed92726-cdd8-45ca-9f69-71d997f7d155",
   "metadata": {},
   "outputs": [],
   "source": [
    "df['date'] = pd.to_datetime(df['date'],format='%Y/%m/%d')"
   ]
  },
  {
   "cell_type": "code",
   "execution_count": 4,
   "id": "fb8ad6ca-0c28-4eaf-8959-cc36f20f24e8",
   "metadata": {},
   "outputs": [],
   "source": [
    "df_clean = df.dropna(subset=['total_deaths', 'total_cases','location','date','median_age']).copy()"
   ]
  },
  {
   "cell_type": "markdown",
   "id": "d5ec0ee4-5d27-4536-aded-7834bacdc53d",
   "metadata": {},
   "source": [
    "Make prediction using age, date, location, buat probabilitynya dulsss"
   ]
  },
  {
   "cell_type": "code",
   "execution_count": 5,
   "id": "e7d2f890-6248-4726-b95a-6ca91e72423f",
   "metadata": {},
   "outputs": [],
   "source": [
    "df_clean['Death_Probability'] = df_clean['total_deaths']/df_clean['total_cases']"
   ]
  },
  {
   "cell_type": "markdown",
   "id": "597a1d83-bd82-47cb-ae18-bfafcb8a4e3e",
   "metadata": {},
   "source": [
    "Variable used: ['Location','Month','Year','median_age','Death_Probability']"
   ]
  },
  {
   "cell_type": "code",
   "execution_count": 6,
   "id": "b258c872-5fd9-459d-934b-6daef4f1c6cd",
   "metadata": {},
   "outputs": [
    {
     "data": {
      "image/png": "[encoded data removed]",
      "text/plain": [
       "<Figure size 1296x720 with 2 Axes>"
      ]
     },
     "metadata": {
      "needs_background": "light"
     },
     "output_type": "display_data"
    }
   ],
   "source": [
    "import matplotlib.pyplot as plt\n",
    "import seaborn as sns\n",
    "\n",
    "fig, ax = plt.subplots(1,2, figsize=(18,10))\n",
    "sns.lineplot(ax=ax[0],x=df_clean[df_clean['location']=='France']['date'], y=df_clean[df_clean['location']=='France']['total_cases'])\n",
    "sns.lineplot(ax=ax[1],x=df_clean[df_clean['location']=='France']['date'], y=df_clean[df_clean['location']=='France']['total_deaths'])\n",
    "fig.suptitle('Growth of Total Cases and Deaths Over Time', size=25)\n",
    "ax[0].set_xlabel('Date', size=15)\n",
    "ax[0].set_ylabel('Total Cases', size=15)\n",
    "ax[1].set_xlabel('Date', size=15)\n",
    "ax[1].set_ylabel('Total Death', size=15)\n",
    "plt.tight_layout()"
   ]
  },
  {
   "cell_type": "code",
   "execution_count": 7,
   "id": "ece2284d-e5b2-4846-86d5-529356b56dc5",
   "metadata": {},
   "outputs": [
    {
     "data": {
      "image/png": "[encoded data removed]",
      "text/plain": [
       "<Figure size 720x360 with 1 Axes>"
      ]
     },
     "metadata": {
      "needs_background": "light"
     },
     "output_type": "display_data"
    }
   ],
   "source": [
    "plt.figure(figsize=(10,5))\n",
    "sns.lineplot(x=df_clean[df_clean['location']=='France']['date'], y=df_clean[df_clean['location']=='France']['Death_Probability'])\n",
    "plt.title('Death Probability from January 2020 to Januari 2023 Caused by COVID')\n",
    "plt.xlabel('Date')\n",
    "plt.ylabel('Probabilty')\n",
    "plt.tight_layout()"
   ]
  },
  {
   "cell_type": "code",
   "execution_count": 8,
   "id": "6dc2c11c-f911-40de-9200-0a136c6c6bee",
   "metadata": {},
   "outputs": [
    {
     "data": {
      "text/html": [
       "<div>\n",
       "<style scoped>\n",
       "    .dataframe tbody tr th:only-of-type {\n",
       "        vertical-align: middle;\n",
       "    }\n",
       "\n",
       "    .dataframe tbody tr th {\n",
       "        vertical-align: top;\n",
       "    }\n",
       "\n",
       "    .dataframe thead th {\n",
       "        text-align: right;\n",
       "    }\n",
       "</style>\n",
       "<table border=\"1\" class=\"dataframe\">\n",
       "  <thead>\n",
       "    <tr style=\"text-align: right;\">\n",
       "      <th></th>\n",
       "      <th>location</th>\n",
       "      <th>date</th>\n",
       "      <th>median_age</th>\n",
       "      <th>Death_Probability</th>\n",
       "    </tr>\n",
       "  </thead>\n",
       "  <tbody>\n",
       "    <tr>\n",
       "      <th>0</th>\n",
       "      <td>Belize</td>\n",
       "      <td>2020-04-06</td>\n",
       "      <td>25.0</td>\n",
       "      <td>0.142857</td>\n",
       "    </tr>\n",
       "    <tr>\n",
       "      <th>1</th>\n",
       "      <td>Belize</td>\n",
       "      <td>2020-04-07</td>\n",
       "      <td>25.0</td>\n",
       "      <td>0.142857</td>\n",
       "    </tr>\n",
       "    <tr>\n",
       "      <th>2</th>\n",
       "      <td>Belize</td>\n",
       "      <td>2020-04-08</td>\n",
       "      <td>25.0</td>\n",
       "      <td>0.125000</td>\n",
       "    </tr>\n",
       "    <tr>\n",
       "      <th>3</th>\n",
       "      <td>Belize</td>\n",
       "      <td>2020-04-09</td>\n",
       "      <td>25.0</td>\n",
       "      <td>0.111111</td>\n",
       "    </tr>\n",
       "    <tr>\n",
       "      <th>4</th>\n",
       "      <td>Belize</td>\n",
       "      <td>2020-04-10</td>\n",
       "      <td>25.0</td>\n",
       "      <td>0.200000</td>\n",
       "    </tr>\n",
       "  </tbody>\n",
       "</table>\n",
       "</div>"
      ],
      "text/plain": [
       "  location       date  median_age  Death_Probability\n",
       "0   Belize 2020-04-06        25.0           0.142857\n",
       "1   Belize 2020-04-07        25.0           0.142857\n",
       "2   Belize 2020-04-08        25.0           0.125000\n",
       "3   Belize 2020-04-09        25.0           0.111111\n",
       "4   Belize 2020-04-10        25.0           0.200000"
      ]
     },
     "execution_count": 8,
     "metadata": {},
     "output_type": "execute_result"
    }
   ],
   "source": [
    "df_clean_Used = df_clean[(df_clean['location']=='France')|((df_clean['median_age']>=24) & (df_clean['median_age']<=26))].reset_index(drop=True)\n",
    "df_clean_Used = df_clean_Used[['location','date','median_age','Death_Probability']]\n",
    "df_clean_Used.head()"
   ]
  },
  {
   "cell_type": "code",
   "execution_count": 9,
   "id": "643d9d69-9b0c-4944-b4d1-1a8ffbf0ad6f",
   "metadata": {},
   "outputs": [
    {
     "data": {
      "text/html": [
       "<div>\n",
       "<style scoped>\n",
       "    .dataframe tbody tr th:only-of-type {\n",
       "        vertical-align: middle;\n",
       "    }\n",
       "\n",
       "    .dataframe tbody tr th {\n",
       "        vertical-align: top;\n",
       "    }\n",
       "\n",
       "    .dataframe thead th {\n",
       "        text-align: right;\n",
       "    }\n",
       "</style>\n",
       "<table border=\"1\" class=\"dataframe\">\n",
       "  <thead>\n",
       "    <tr style=\"text-align: right;\">\n",
       "      <th></th>\n",
       "      <th>location</th>\n",
       "      <th>date</th>\n",
       "      <th>median_age</th>\n",
       "      <th>Death_Probability</th>\n",
       "      <th>location_label</th>\n",
       "      <th>Month</th>\n",
       "      <th>Year</th>\n",
       "    </tr>\n",
       "  </thead>\n",
       "  <tbody>\n",
       "    <tr>\n",
       "      <th>0</th>\n",
       "      <td>Belize</td>\n",
       "      <td>2020-04-06</td>\n",
       "      <td>25.0</td>\n",
       "      <td>0.142857</td>\n",
       "      <td>0</td>\n",
       "      <td>4</td>\n",
       "      <td>2020</td>\n",
       "    </tr>\n",
       "    <tr>\n",
       "      <th>1</th>\n",
       "      <td>Belize</td>\n",
       "      <td>2020-04-07</td>\n",
       "      <td>25.0</td>\n",
       "      <td>0.142857</td>\n",
       "      <td>0</td>\n",
       "      <td>4</td>\n",
       "      <td>2020</td>\n",
       "    </tr>\n",
       "    <tr>\n",
       "      <th>2</th>\n",
       "      <td>Belize</td>\n",
       "      <td>2020-04-08</td>\n",
       "      <td>25.0</td>\n",
       "      <td>0.125000</td>\n",
       "      <td>0</td>\n",
       "      <td>4</td>\n",
       "      <td>2020</td>\n",
       "    </tr>\n",
       "    <tr>\n",
       "      <th>3</th>\n",
       "      <td>Belize</td>\n",
       "      <td>2020-04-09</td>\n",
       "      <td>25.0</td>\n",
       "      <td>0.111111</td>\n",
       "      <td>0</td>\n",
       "      <td>4</td>\n",
       "      <td>2020</td>\n",
       "    </tr>\n",
       "    <tr>\n",
       "      <th>4</th>\n",
       "      <td>Belize</td>\n",
       "      <td>2020-04-10</td>\n",
       "      <td>25.0</td>\n",
       "      <td>0.200000</td>\n",
       "      <td>0</td>\n",
       "      <td>4</td>\n",
       "      <td>2020</td>\n",
       "    </tr>\n",
       "  </tbody>\n",
       "</table>\n",
       "</div>"
      ],
      "text/plain": [
       "  location       date  median_age  Death_Probability  location_label  Month  \\\n",
       "0   Belize 2020-04-06        25.0           0.142857               0      4   \n",
       "1   Belize 2020-04-07        25.0           0.142857               0      4   \n",
       "2   Belize 2020-04-08        25.0           0.125000               0      4   \n",
       "3   Belize 2020-04-09        25.0           0.111111               0      4   \n",
       "4   Belize 2020-04-10        25.0           0.200000               0      4   \n",
       "\n",
       "   Year  \n",
       "0  2020  \n",
       "1  2020  \n",
       "2  2020  \n",
       "3  2020  \n",
       "4  2020  "
      ]
     },
     "execution_count": 9,
     "metadata": {},
     "output_type": "execute_result"
    }
   ],
   "source": [
    "df_clean_Used['location_label'] = df_clean_Used['location'].astype('category').cat.codes\n",
    "df_clean_Used['Month'] = df_clean_Used['date'].dt.month\n",
    "df_clean_Used['Year'] = df_clean_Used['date'].dt.year\n",
    "df_clean_Used.head()"
   ]
  },
  {
   "cell_type": "markdown",
   "id": "e2e68107-896e-4d66-816f-f89445cd3041",
   "metadata": {},
   "source": [
    "### **Q1**"
   ]
  },
  {
   "cell_type": "code",
   "execution_count": 10,
   "id": "f8ad73bc-0fa1-49b6-baac-3753f59131f2",
   "metadata": {},
   "outputs": [],
   "source": [
    "from sklearn.model_selection import train_test_split\n",
    "X = df_clean_Used[['location_label','Month','Year','median_age']]\n",
    "y = df_clean_Used['Death_Probability']\n",
    "\n",
    "X_train, X_test, y_train, y_test = train_test_split(X,y, test_size=0.1, random_state=1818)"
   ]
  },
  {
   "cell_type": "code",
   "execution_count": 11,
   "id": "7bbadfc2-0742-4997-b825-634d3469a9b5",
   "metadata": {},
   "outputs": [],
   "source": [
    "from sklearn.linear_model import LinearRegression\n",
    "\n",
    "model = LinearRegression()\n",
    "model.fit(X_train,y_train)\n",
    "\n",
    "y_pred = model.predict(X_test)"
   ]
  },
  {
   "cell_type": "code",
   "execution_count": 12,
   "id": "dde9a43a-3d16-45bc-9524-ba63c8a79c53",
   "metadata": {},
   "outputs": [
    {
     "name": "stdout",
     "output_type": "stream",
     "text": [
      "MAE:  0.015283028640749563\n",
      "RMSE:  0.023766558600893346\n",
      "R2:  0.1157431944456897\n"
     ]
    }
   ],
   "source": [
    "from sklearn.metrics import mean_absolute_error, mean_squared_error, r2_score\n",
    "\n",
    "print('MAE: ',mean_absolute_error(y_test, y_pred))\n",
    "print('RMSE: ',mean_squared_error(y_test, y_pred,squared=False))\n",
    "print('R2: ',r2_score(y_test, y_pred))"
   ]
  },
  {
   "cell_type": "markdown",
   "id": "0021a4cb-8151-4b69-8979-b3e661e98b44",
   "metadata": {},
   "source": [
    "Not a really good model."
   ]
  },
  {
   "cell_type": "code",
   "execution_count": 13,
   "id": "4cb010c3-9cbf-4cfc-922c-d637a24862d9",
   "metadata": {},
   "outputs": [
    {
     "name": "stdout",
     "output_type": "stream",
     "text": [
      "MAE:  0.0015094395199608376\n",
      "RMSE:  0.007385138521476213\n",
      "R2:  0.9146186334441773\n"
     ]
    }
   ],
   "source": [
    "from sklearn.neighbors import KNeighborsRegressor\n",
    "\n",
    "KNN = KNeighborsRegressor()\n",
    "KNN.fit(X_train,y_train)\n",
    "\n",
    "y_pred_KNN = KNN.predict(X_test)\n",
    "\n",
    "print('MAE: ',mean_absolute_error(y_test, y_pred_KNN))\n",
    "print('RMSE: ',mean_squared_error(y_test, y_pred_KNN,squared=False))\n",
    "print('R2: ',r2_score(y_test, y_pred_KNN))"
   ]
  },
  {
   "cell_type": "markdown",
   "id": "cf9a3e7e-4ac9-4599-8bf5-035ef677093b",
   "metadata": {},
   "source": [
    "Let's try decision tree."
   ]
  },
  {
   "cell_type": "code",
   "execution_count": 14,
   "id": "3ff0fd5d-ab29-4d85-b839-c345becf1264",
   "metadata": {},
   "outputs": [],
   "source": [
    "from sklearn.tree import DecisionTreeRegressor\n",
    "\n",
    "tree = DecisionTreeRegressor()\n",
    "tree.fit(X_train,y_train)\n",
    "\n",
    "y_pred_tree = tree.predict(X_test)"
   ]
  },
  {
   "cell_type": "code",
   "execution_count": 15,
   "id": "be78c673-1c57-4edb-81fa-95b76dc1e8f3",
   "metadata": {},
   "outputs": [
    {
     "name": "stdout",
     "output_type": "stream",
     "text": [
      "MAE:  0.0014366940742715484\n",
      "RMSE:  0.006812456086225797\n",
      "R2:  0.9273470518987724\n"
     ]
    }
   ],
   "source": [
    "print('MAE: ',mean_absolute_error(y_test, y_pred_tree))\n",
    "print('RMSE: ',mean_squared_error(y_test, y_pred_tree,squared=False))\n",
    "print('R2: ',r2_score(y_test, y_pred_tree))"
   ]
  },
  {
   "cell_type": "code",
   "execution_count": 16,
   "id": "afebadf8-bae6-4349-afa5-ab780bec6f53",
   "metadata": {},
   "outputs": [
    {
     "data": {
      "text/html": [
       "<div>\n",
       "<style scoped>\n",
       "    .dataframe tbody tr th:only-of-type {\n",
       "        vertical-align: middle;\n",
       "    }\n",
       "\n",
       "    .dataframe tbody tr th {\n",
       "        vertical-align: top;\n",
       "    }\n",
       "\n",
       "    .dataframe thead th {\n",
       "        text-align: right;\n",
       "    }\n",
       "</style>\n",
       "<table border=\"1\" class=\"dataframe\">\n",
       "  <thead>\n",
       "    <tr style=\"text-align: right;\">\n",
       "      <th></th>\n",
       "      <th>location_label</th>\n",
       "      <th>Month</th>\n",
       "      <th>Year</th>\n",
       "      <th>median_age</th>\n",
       "    </tr>\n",
       "  </thead>\n",
       "  <tbody>\n",
       "    <tr>\n",
       "      <th>0</th>\n",
       "      <td>7</td>\n",
       "      <td>3</td>\n",
       "      <td>2023</td>\n",
       "      <td>25</td>\n",
       "    </tr>\n",
       "  </tbody>\n",
       "</table>\n",
       "</div>"
      ],
      "text/plain": [
       "  location_label  Month  Year  median_age\n",
       "0              7      3  2023          25"
      ]
     },
     "execution_count": 16,
     "metadata": {},
     "output_type": "execute_result"
    }
   ],
   "source": [
    "check = { \n",
    "    'location_label' : ['7'], \n",
    "    'Month' : [3], \n",
    "    'Year' : [2023], \n",
    "    'median_age' : [25]\n",
    "} \n",
    "\n",
    "X_Check = pd.DataFrame(check)\n",
    "X_Check"
   ]
  },
  {
   "cell_type": "code",
   "execution_count": 17,
   "id": "08ba7600-837b-419a-9410-648fa1c67bbf",
   "metadata": {},
   "outputs": [
    {
     "name": "stdout",
     "output_type": "stream",
     "text": [
      "Linear Regression prediction:  [0.00711883]\n",
      "KNN prediction:  [0.04911916]\n",
      "Decision Tree prediction:  [0.04895466]\n"
     ]
    }
   ],
   "source": [
    "y_pred_Q1_LR = model.predict(X_Check)\n",
    "y_pred_Q1_KNN = KNN.predict(X_Check)\n",
    "y_pred_Q1_tree = tree.predict(X_Check)\n",
    "print('Linear Regression prediction: ', y_pred_Q1_LR)\n",
    "print('KNN prediction: ', y_pred_Q1_KNN)\n",
    "print('Decision Tree prediction: ', y_pred_Q1_tree)"
   ]
  },
  {
   "cell_type": "markdown",
   "id": "ae0168a9-f209-4ec3-914c-098b0c62d11a",
   "metadata": {},
   "source": [
    "Since Decision Tree model a little bit better than KNN, so we will use Decision Tree Prediction to see the result of Q1, **0.04895466**"
   ]
  },
  {
   "cell_type": "markdown",
   "id": "9a0576a9-5aef-4324-a9bf-9356e0562faa",
   "metadata": {},
   "source": [
    "### **Q2**"
   ]
  },
  {
   "cell_type": "markdown",
   "id": "8829ae11-384b-4ab9-b3e1-b2186f108b4a",
   "metadata": {},
   "source": [
    "US"
   ]
  },
  {
   "cell_type": "code",
   "execution_count": 18,
   "id": "045565dd-b6e9-4740-9991-b375fcdcd0b9",
   "metadata": {},
   "outputs": [
    {
     "name": "stdout",
     "output_type": "stream",
     "text": [
      "Age Column for United States:  [38.3]\n",
      "Age Column for China:  [38.7]\n",
      "Age Column for France:  [42.]\n",
      "Age Column for Germany:  [46.6]\n"
     ]
    }
   ],
   "source": [
    "print('Age Column for United States: ',df_clean[df_clean['location']=='United States']['median_age'].unique())\n",
    "print('Age Column for China: ',df_clean[df_clean['location']=='China']['median_age'].unique())\n",
    "print('Age Column for France: ',df_clean[df_clean['location']=='France']['median_age'].unique())\n",
    "print('Age Column for Germany: ',df_clean[df_clean['location']=='Germany']['median_age'].unique())"
   ]
  },
  {
   "cell_type": "markdown",
   "id": "95b64153-a668-4f83-95ec-fdc35d5a5c80",
   "metadata": {},
   "source": [
    "I can't see for the correlation between age and number of deaths because the value of age is only one unique value.</br>\n",
    "If I try to print the correlation number, what will come out is NaN"
   ]
  },
  {
   "cell_type": "code",
   "execution_count": 19,
   "id": "61e3803d-d665-4ec9-a719-a87ad9c86e9a",
   "metadata": {},
   "outputs": [
    {
     "data": {
      "text/html": [
       "<div>\n",
       "<style scoped>\n",
       "    .dataframe tbody tr th:only-of-type {\n",
       "        vertical-align: middle;\n",
       "    }\n",
       "\n",
       "    .dataframe tbody tr th {\n",
       "        vertical-align: top;\n",
       "    }\n",
       "\n",
       "    .dataframe thead th {\n",
       "        text-align: right;\n",
       "    }\n",
       "</style>\n",
       "<table border=\"1\" class=\"dataframe\">\n",
       "  <thead>\n",
       "    <tr style=\"text-align: right;\">\n",
       "      <th></th>\n",
       "      <th>median_age</th>\n",
       "      <th>total_deaths</th>\n",
       "    </tr>\n",
       "  </thead>\n",
       "  <tbody>\n",
       "    <tr>\n",
       "      <th>median_age</th>\n",
       "      <td>NaN</td>\n",
       "      <td>NaN</td>\n",
       "    </tr>\n",
       "    <tr>\n",
       "      <th>total_deaths</th>\n",
       "      <td>NaN</td>\n",
       "      <td>1.0</td>\n",
       "    </tr>\n",
       "  </tbody>\n",
       "</table>\n",
       "</div>"
      ],
      "text/plain": [
       "              median_age  total_deaths\n",
       "median_age           NaN           NaN\n",
       "total_deaths         NaN           1.0"
      ]
     },
     "execution_count": 19,
     "metadata": {},
     "output_type": "execute_result"
    }
   ],
   "source": [
    "df_clean[df_clean['location']=='United States'][['median_age','total_deaths']].corr()"
   ]
  }
 ],
 "metadata": {
  "kernelspec": {
   "display_name": "Python 3",
   "language": "python",
   "name": "python3"
  },
  "language_info": {
   "codemirror_mode": {
    "name": "ipython",
    "version": 3
   },
   "file_extension": ".py",
   "mimetype": "text/x-python",
   "name": "python",
   "nbconvert_exporter": "python",
   "pygments_lexer": "ipython3",
   "version": "3.8.8"
  }
 },
 "nbformat": 4,
 "nbformat_minor": 5
}
